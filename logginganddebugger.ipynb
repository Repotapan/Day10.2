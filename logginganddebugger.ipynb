{
 "cells": [
  {
   "cell_type": "code",
   "execution_count": 1,
   "id": "a1a63a93-d533-44cd-9a0d-59b7f4db1331",
   "metadata": {},
   "outputs": [
    {
     "name": "stdout",
     "output_type": "stream",
     "text": [
      "this is my print\n"
     ]
    }
   ],
   "source": [
    "print(\"this is my print\")"
   ]
  },
  {
   "cell_type": "code",
   "execution_count": 5,
   "id": "d31d9a06-74b0-4e1b-857a-81fc4fc6e088",
   "metadata": {},
   "outputs": [],
   "source": [
    "import logging"
   ]
  },
  {
   "cell_type": "code",
   "execution_count": 6,
   "id": "eab4756c-17c5-434e-ab9d-9096995a2dfa",
   "metadata": {},
   "outputs": [],
   "source": [
    "logging.basicConfig(filename=\"text.log\",level=logging.INFO)"
   ]
  },
  {
   "cell_type": "code",
   "execution_count": 7,
   "id": "4a9f9725-60f1-4bb1-8884-a40111a5d6f7",
   "metadata": {},
   "outputs": [],
   "source": [
    "logging.info(\"log this line of execution\")"
   ]
  },
  {
   "cell_type": "code",
   "execution_count": 8,
   "id": "78a9cc2c-c0f3-4925-8904-b7f36b2f99d8",
   "metadata": {},
   "outputs": [],
   "source": [
    "logging.info(\"this is my print\")"
   ]
  },
  {
   "cell_type": "code",
   "execution_count": 9,
   "id": "7923e599-be8f-4b28-9e23-9dcd8278a37d",
   "metadata": {},
   "outputs": [],
   "source": [
    "logging.debug(\"this message is not log in\")"
   ]
  },
  {
   "cell_type": "code",
   "execution_count": 10,
   "id": "a71def26-f3a4-4962-88d1-e28b41da4ab4",
   "metadata": {},
   "outputs": [],
   "source": [
    "logging.warning(\"this is my warning message\")"
   ]
  },
  {
   "cell_type": "code",
   "execution_count": 11,
   "id": "245b18f5-912d-4faa-b65b-fc5107d1a04c",
   "metadata": {},
   "outputs": [],
   "source": [
    "logging.error(\"this is my error\")"
   ]
  },
  {
   "cell_type": "code",
   "execution_count": 24,
   "id": "b62bb90e-5936-42ab-ac69-40bc4491ea17",
   "metadata": {},
   "outputs": [],
   "source": [
    "logging.shutdown()"
   ]
  },
  {
   "cell_type": "raw",
   "id": "7da2e296-5a0f-4bfa-9df3-d538e965d749",
   "metadata": {},
   "source": [
    "1.NOTSET\n",
    "2.DEBUG\n",
    "3.INFO\n",
    "4.WARNING\n",
    "5.ERROR\n",
    "6.CRITICAL"
   ]
  },
  {
   "cell_type": "code",
   "execution_count": 1,
   "id": "a5039f63-7396-46c3-8a15-40b16997d2a9",
   "metadata": {},
   "outputs": [],
   "source": [
    "import logging"
   ]
  },
  {
   "cell_type": "code",
   "execution_count": 2,
   "id": "c4d63028-6c4f-4502-bc3e-ebc33e03cd4e",
   "metadata": {},
   "outputs": [],
   "source": [
    "logging.basicConfig(filename=\"text1.log\",level=logging.DEBUG,format=\"%(asctime)s %(message)s\")"
   ]
  },
  {
   "cell_type": "code",
   "execution_count": 3,
   "id": "f2042d37-5795-4740-916a-96b85e46b844",
   "metadata": {},
   "outputs": [],
   "source": [
    "logging.info(\"this is my logging info\")\n",
    "logging.error(\"this is my logging error\")\n",
    "logging.critical(\"this is my logging critical\")\n",
    "logging.warning(\"this is my logging warning\")"
   ]
  },
  {
   "cell_type": "code",
   "execution_count": 4,
   "id": "c02f5833-2d51-48ad-8ca8-3eda18422f2a",
   "metadata": {},
   "outputs": [],
   "source": [
    "logging.shutdown()"
   ]
  },
  {
   "cell_type": "code",
   "execution_count": 2,
   "id": "ff33d48c-6dc0-463a-b220-40b3d6d80c1f",
   "metadata": {},
   "outputs": [],
   "source": [
    "import logging"
   ]
  },
  {
   "cell_type": "code",
   "execution_count": 3,
   "id": "e7832de5-0932-4b69-adcd-6f78b8df9923",
   "metadata": {},
   "outputs": [],
   "source": [
    "logging.basicConfig(filename=\"text2.log\",level=logging.DEBUG,format=\"%(asctime)s %(name)s %(levelname)s %(message)s\")"
   ]
  },
  {
   "cell_type": "code",
   "execution_count": 4,
   "id": "a4a7af7c-86be-4ffb-a664-10a4efb2ee88",
   "metadata": {},
   "outputs": [],
   "source": [
    "logging.info(\"this is my logging info\")\n",
    "logging.error(\"this is my logging error\")\n",
    "logging.critical(\"this is my logging critical\")\n",
    "logging.warning(\"this is my logging warning\")"
   ]
  },
  {
   "cell_type": "code",
   "execution_count": 5,
   "id": "a8d87661-f145-47aa-8a94-eaab7b6d4995",
   "metadata": {},
   "outputs": [],
   "source": [
    "l=[1,2,3,4,5,[2,3,4],\"sudh\",\"kumar\"]"
   ]
  },
  {
   "cell_type": "code",
   "execution_count": 11,
   "id": "7b49dc58-bc39-4983-8386-a5bd429586c2",
   "metadata": {},
   "outputs": [],
   "source": [
    "l1_int=[]\n",
    "l1_str=[]\n",
    "for i in l:\n",
    "    logging.info(\"we are iterating our list and our local variable is i\"+str(l))\n",
    "    if type(i) == list :\n",
    "        logging.info(\"i am inside if statement and i am trying to check the list type\"+str(i))\n",
    "        for j in i:\n",
    "            logging.info(\"i am in the another for loop for list inside list element\"+str(j))\n",
    "            if type(j) == int:\n",
    "                logging.info(\"i am inside if statement\")\n",
    "                l1_int.append(j)\n",
    "    elif type(i) == int:\n",
    "        l1_int.append(i)\n",
    "    else:\n",
    "        if type(i) == str:\n",
    "            l1_str.append(i)\n",
    "logging.info(\"my final result for int is {l1} and str is {l2}\".format(l1=l1_int,l2=l1_str) )\n",
    "    "
   ]
  },
  {
   "cell_type": "code",
   "execution_count": 7,
   "id": "f325f633-dcf9-4417-a164-3ce2f4641345",
   "metadata": {},
   "outputs": [
    {
     "data": {
      "text/plain": [
       "[1, 2, 3, 4, 5, 2, 3, 4]"
      ]
     },
     "execution_count": 7,
     "metadata": {},
     "output_type": "execute_result"
    }
   ],
   "source": [
    "l1_int"
   ]
  },
  {
   "cell_type": "code",
   "execution_count": 8,
   "id": "130a513b-67f8-4173-8fa2-7849e8bcfc39",
   "metadata": {},
   "outputs": [
    {
     "data": {
      "text/plain": [
       "['sudh', 'kumar']"
      ]
     },
     "execution_count": 8,
     "metadata": {},
     "output_type": "execute_result"
    }
   ],
   "source": [
    "l1_str"
   ]
  },
  {
   "cell_type": "code",
   "execution_count": null,
   "id": "9bb785e9-a883-4587-9f5c-beb8351954bc",
   "metadata": {},
   "outputs": [],
   "source": [
    " "
   ]
  }
 ],
 "metadata": {
  "kernelspec": {
   "display_name": "Python 3 (ipykernel)",
   "language": "python",
   "name": "python3"
  },
  "language_info": {
   "codemirror_mode": {
    "name": "ipython",
    "version": 3
   },
   "file_extension": ".py",
   "mimetype": "text/x-python",
   "name": "python",
   "nbconvert_exporter": "python",
   "pygments_lexer": "ipython3",
   "version": "3.10.8"
  }
 },
 "nbformat": 4,
 "nbformat_minor": 5
}
